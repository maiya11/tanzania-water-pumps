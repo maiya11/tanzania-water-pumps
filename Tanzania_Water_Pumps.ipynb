{
  "cells": [
    {
      "cell_type": "markdown",
      "metadata": {
        "id": "nCc3XZEyG3XV"
      },
      "source": [
        "# **Project: Classification Metrics**\n",
        "\n",
        "This project will focus on creating and improving a model for the Tanazania Water Pump dataset. Our goal is to create a model to predict whether a water pump is functional, non-functional, or functional needs repair.\n",
        "\n",
        "\n",
        "# I. Wrangle Data"
      ]
    },
    {
      "cell_type": "code",
      "source": [
        "%%capture\n",
        "!pip install category_encoders plotly"
      ],
      "metadata": {
        "id": "9wZ-Peb891R5"
      },
      "execution_count": 35,
      "outputs": []
    },
    {
      "cell_type": "code",
      "source": [
        "#mount google drive where the .csv files are stored\n",
        "from google.colab import drive\n",
        "drive.mount('/content/drive')"
      ],
      "metadata": {
        "colab": {
          "base_uri": "https://localhost:8080/"
        },
        "id": "LchboYB19_XW",
        "outputId": "6c05a469-36c8-40cf-9dd2-221a2ca0195d"
      },
      "execution_count": 2,
      "outputs": [
        {
          "output_type": "stream",
          "name": "stdout",
          "text": [
            "Mounted at /content/drive\n"
          ]
        }
      ]
    },
    {
      "cell_type": "code",
      "source": [
        "#update working directory on google drive\n",
        "%cd /content/drive/My Drive/Kaggle/bloomtech-water-pump-challenge"
      ],
      "metadata": {
        "colab": {
          "base_uri": "https://localhost:8080/"
        },
        "id": "lQcaV7iO-CJ8",
        "outputId": "f8046a0c-d6b0-4e07-8fbf-be84a03b7390"
      },
      "execution_count": 3,
      "outputs": [
        {
          "output_type": "stream",
          "name": "stdout",
          "text": [
            "/content/drive/My Drive/Kaggle/bloomtech-water-pump-challenge\n"
          ]
        }
      ]
    },
    {
      "cell_type": "code",
      "source": [
        "import pandas as pd\n",
        "import matplotlib.pyplot as plt\n",
        "import numpy as np\n",
        "import plotly.express as px\n",
        "import plotly.graph_objects as go\n",
        "from sklearn.pipeline import make_pipeline\n",
        "from category_encoders import OrdinalEncoder\n",
        "from sklearn.impute import SimpleImputer\n",
        "from sklearn.ensemble import RandomForestClassifier, GradientBoostingClassifier\n",
        "from sklearn.model_selection import train_test_split, cross_val_score, validation_curve\n",
        "from sklearn.metrics import ConfusionMatrixDisplay, classification_report"
      ],
      "metadata": {
        "id": "gI9Zt7Sj-cq1"
      },
      "execution_count": 30,
      "outputs": []
    },
    {
      "cell_type": "code",
      "execution_count": 41,
      "metadata": {
        "id": "V7ZZk39ex28I"
      },
      "outputs": [],
      "source": [
        "def wrangle(fm_path, tv_path=None):\n",
        "    if tv_path:\n",
        "        df = pd.merge(pd.read_csv(fm_path, \n",
        "                                  na_values=[0, -2.000000e-08],\n",
        "                                  parse_dates=['date_recorded']),\n",
        "                      pd.read_csv(tv_path)).set_index('id')\n",
        "    else:\n",
        "        df = pd.read_csv(fm_path, \n",
        "                         na_values=[0, -2.000000e-08],\n",
        "                         parse_dates=['date_recorded'],\n",
        "                         index_col='id')\n",
        "\n",
        "    # Drop constant columns\n",
        "    df = df.drop(columns=['recorded_by'])\n",
        "\n",
        "    # Create age feature\n",
        "    df['pump_age'] = df['date_recorded'].dt.year - df['construction_year']\n",
        "    df = df.drop(columns=['date_recorded', 'construction_year'])\n",
        "\n",
        "    # Drop HCCCs\n",
        "    cutoff = 100\n",
        "    drop_cols = [col for col in df.select_dtypes('object').columns\n",
        "                 if df[col].nunique() > cutoff]\n",
        "    df = df.drop(columns=drop_cols)\n",
        "    df = df.drop(columns= ['num_private', 'amount_tsh'])\n",
        "\n",
        "    # Drop duplicate columns\n",
        "    dupe_cols = [col for col in df.head(100).T.duplicated().index\n",
        "                 if df.head(100).T.duplicated()[col]]\n",
        "    df = df.drop(columns=dupe_cols)\n",
        "    manual_dupe_cols = ['source_type', 'waterpoint_type', 'extraction_type', 'extraction_type_group', 'region_code', 'quality_group', 'payment', 'management_group', 'scheme_management']\n",
        "    df = df.drop(columns= manual_dupe_cols)             \n",
        "\n",
        "    return df"
      ]
    },
    {
      "cell_type": "markdown",
      "metadata": {
        "id": "Curd0pCp9UFh"
      },
      "source": [
        "Using the above `wrangle` function to read `train_features.csv` and `train_labels.csv` into the DataFrame `df`, and `test_features.csv` into the DataFrame `X_test`."
      ]
    },
    {
      "cell_type": "code",
      "execution_count": 42,
      "metadata": {
        "id": "5vstdUeD9UFh"
      },
      "outputs": [],
      "source": [
        "df = wrangle('train_features.csv', 'train_labels.csv')\n",
        "X_test = wrangle('test_features.csv')"
      ]
    },
    {
      "cell_type": "markdown",
      "metadata": {
        "id": "0V85QpqW9UFh"
      },
      "source": [
        "# II. Split Data\n",
        "\n",
        "Split DataFrame `df` into a feature matrix `X` and the target vector `y`. We want to predict `'status_group'`."
      ]
    },
    {
      "cell_type": "code",
      "execution_count": 43,
      "metadata": {
        "id": "-2xuz2bE9UFh"
      },
      "outputs": [],
      "source": [
        "target = 'status_group'\n",
        "X = df.drop(columns= target)\n",
        "y = df[target]"
      ]
    },
    {
      "cell_type": "markdown",
      "metadata": {
        "id": "Q2DCrJb39UFh"
      },
      "source": [
        "Using a randomized split, we will divide `X` and `y` into a training set (`X_train`, `y_train`) and a validation set (`X_val`, `y_val`)."
      ]
    },
    {
      "cell_type": "code",
      "execution_count": 44,
      "metadata": {
        "id": "L2giSNb59UFi"
      },
      "outputs": [],
      "source": [
        "X_train, X_val, y_train, y_val = train_test_split(X, y, train_size = 0.2, random_state = 42)"
      ]
    },
    {
      "cell_type": "markdown",
      "metadata": {
        "id": "GJje9APu9UFi"
      },
      "source": [
        "# III. Establish Baseline\n",
        "\n",
        "Baseline == majority class in `y_train`, what percentage of our training observations it represents."
      ]
    },
    {
      "cell_type": "code",
      "execution_count": 45,
      "metadata": {
        "id": "2ZXTWGI19UFi",
        "colab": {
          "base_uri": "https://localhost:8080/"
        },
        "outputId": "d4fac353-16c1-40a9-a86a-0e4fd61d7351"
      },
      "outputs": [
        {
          "output_type": "stream",
          "name": "stdout",
          "text": [
            "Baseline Accuracy Score: 0.5429828068772491\n"
          ]
        }
      ],
      "source": [
        "baseline_acc = y.value_counts(normalize=True).max()\n",
        "print('Baseline Accuracy Score:', baseline_acc)"
      ]
    },
    {
      "cell_type": "markdown",
      "metadata": {
        "id": "Ya07ZqfI9UFi"
      },
      "source": [
        "# IV. Build Models"
      ]
    },
    {
      "cell_type": "code",
      "execution_count": 46,
      "metadata": {
        "id": "sybqBbO89UFi"
      },
      "outputs": [],
      "source": [
        "model = make_pipeline(\n",
        "    OrdinalEncoder(),\n",
        "    SimpleImputer(strategy = 'median'),\n",
        "    RandomForestClassifier(\n",
        "        max_depth = 25, \n",
        "        random_state = 42, \n",
        "        n_jobs = -1, \n",
        "        max_samples = 0.4,\n",
        "        n_estimators = 175\n",
        "        )\n",
        ")\n",
        "\n",
        "model.fit(X_train, y_train);"
      ]
    },
    {
      "cell_type": "markdown",
      "metadata": {
        "id": "Irb88wSn9UFi"
      },
      "source": [
        "# V. Check Metrics\n",
        "\n",
        "Calculating the training and validation accuracy scores for `model`."
      ]
    },
    {
      "cell_type": "code",
      "execution_count": 47,
      "metadata": {
        "id": "d6hjIEFR9UFi",
        "colab": {
          "base_uri": "https://localhost:8080/"
        },
        "outputId": "6a097b5b-4f2d-4a04-9758-85d5ca290e3c"
      },
      "outputs": [
        {
          "output_type": "stream",
          "name": "stdout",
          "text": [
            "Training Accuracy Score: 0.9159212880143113\n",
            "Validation Accuracy Score: 0.7702283249158249\n"
          ]
        }
      ],
      "source": [
        "training_acc = model.score(X_train, y_train)\n",
        "val_acc = model.score(X_val, y_val)\n",
        "\n",
        "print('Training Accuracy Score:', training_acc)\n",
        "print('Validation Accuracy Score:', val_acc)"
      ]
    },
    {
      "cell_type": "code",
      "execution_count": 48,
      "metadata": {
        "id": "QenHS8kL9UFi",
        "colab": {
          "base_uri": "https://localhost:8080/",
          "height": 279
        },
        "outputId": "94e037c6-e0fc-47a9-d509-65026b9ce82f"
      },
      "outputs": [
        {
          "output_type": "display_data",
          "data": {
            "text/plain": [
              "<Figure size 432x288 with 2 Axes>"
            ],
            "image/png": "[encoded data removed]"
          },
          "metadata": {
            "needs_background": "light"
          }
        }
      ],
      "source": [
        "# Plot 3x3 confusion matrix\n",
        "\n",
        "y_pred= model.predict(X_val)\n",
        "\n",
        "ConfusionMatrixDisplay.from_estimator(\n",
        "    model,\n",
        "    X_val,\n",
        "    y_val,\n",
        "    values_format = '.0f'\n",
        ");"
      ]
    },
    {
      "cell_type": "code",
      "execution_count": 49,
      "metadata": {
        "id": "75pXy_IL9UFj",
        "colab": {
          "base_uri": "https://localhost:8080/"
        },
        "outputId": "b428bb81-d05d-4b40-99d2-cfd84fdc229a"
      },
      "outputs": [
        {
          "output_type": "stream",
          "name": "stdout",
          "text": [
            "                         precision    recall  f1-score   support\n",
            "\n",
            "             functional       0.76      0.89      0.82     20656\n",
            "functional needs repair       0.52      0.24      0.33      2736\n",
            "         non functional       0.81      0.71      0.76     14624\n",
            "\n",
            "               accuracy                           0.77     38016\n",
            "              macro avg       0.70      0.61      0.63     38016\n",
            "           weighted avg       0.76      0.77      0.76     38016\n",
            "\n"
          ]
        }
      ],
      "source": [
        "# Print classification report \n",
        "\n",
        "print(classification_report(\n",
        "    y_val,\n",
        "    model.predict(X_val)\n",
        "))"
      ]
    },
    {
      "cell_type": "code",
      "source": [
        "module4_submission = pd.DataFrame({'status_group': model.predict(X_test)}, index= X_test.index)"
      ],
      "metadata": {
        "id": "bg7wQGmMBWGQ"
      },
      "execution_count": 50,
      "outputs": []
    },
    {
      "cell_type": "code",
      "source": [
        "module4_submission.to_csv('module4_submission.csv')"
      ],
      "metadata": {
        "id": "BdouifSpB5Xh"
      },
      "execution_count": 51,
      "outputs": []
    },
    {
      "cell_type": "markdown",
      "metadata": {
        "id": "sxee0HwE9UFj"
      },
      "source": [
        "# VI. Tune Model\n",
        "\n",
        "Usually, we use this part of the ML workflow to adjust the hyperparameters of the our model to increase performance based on metrics like accuracy. Today, we'll use it to help maximize the impact of our water pump repairs when resources are scarce. What if we only had funds to repair 100 water pumps?\n",
        "\n",
        "(This activity is based on a [post](https://towardsdatascience.com/maximizing-scarce-maintenance-resources-with-data-8f3491133050) by Michael Brady.)\n",
        "\n",
        "We will identify the observations in the test set where the model is more than 95% certain that a pump is `'non-functional'`."
      ]
    },
    {
      "cell_type": "code",
      "execution_count": 52,
      "metadata": {
        "id": "grAZk9UN9UFj"
      },
      "outputs": [],
      "source": [
        "X_test_nf = pd.DataFrame({'y_pred_proba': model.predict_proba(X_test)[:, -1], 'y_pred': model.predict(X_test)}, index= X_test.index)"
      ]
    },
    {
      "cell_type": "code",
      "source": [
        "combined_df_nf = pd.merge(X_test, X_test_nf, on='id')"
      ],
      "metadata": {
        "id": "2ivJHr8mFHnl"
      },
      "execution_count": 53,
      "outputs": []
    },
    {
      "cell_type": "code",
      "source": [
        "threshold = 0.95\n",
        "\n",
        "mask = (combined_df_nf['y_pred_proba']>threshold)\n",
        "sample = combined_df_nf[mask]"
      ],
      "metadata": {
        "id": "gV3t2eE7FyXN"
      },
      "execution_count": 54,
      "outputs": []
    },
    {
      "cell_type": "code",
      "execution_count": 55,
      "metadata": {
        "id": "WG8s2dmt9UFj"
      },
      "outputs": [],
      "source": [
        "X_test_nf = sample.sort_values(by='population', ascending=False).head(100)"
      ]
    },
    {
      "cell_type": "markdown",
      "metadata": {
        "id": "zcfkMXWi9UFj"
      },
      "source": [
        "# VII. Communicate Results"
      ]
    },
    {
      "cell_type": "code",
      "execution_count": 56,
      "metadata": {
        "id": "XXrFIabZ9UFj",
        "colab": {
          "base_uri": "https://localhost:8080/",
          "height": 281
        },
        "outputId": "e96eaffd-c727-487d-b50d-9b12672b57b4"
      },
      "outputs": [
        {
          "output_type": "display_data",
          "data": {
            "text/plain": [
              "<Figure size 432x288 with 1 Axes>"
            ],
            "image/png": "[encoded data removed]"
          },
          "metadata": {
            "needs_background": "light"
          }
        }
      ],
      "source": [
        "plt.scatter(X_test_nf['latitude'], X_test_nf['longitude'])\n",
        "plt.title('100 non-functional pumps with the highest population');"
      ]
    },
    {
      "cell_type": "code",
      "source": [
        "mapbox_access_token = 'pk.eyJ1IjoibWFpeWExMSIsImEiOiJjbGZzc2FiOGIwMWE4M2RxcHhyMjlvd3UzIn0.ez1Qh_dtHkxgK4Xe6WGA5w'\n",
        "px.set_mapbox_access_token(mapbox_access_token)"
      ],
      "metadata": {
        "id": "Y1dSKB6OLhUl"
      },
      "execution_count": 57,
      "outputs": []
    },
    {
      "cell_type": "code",
      "source": [
        "fig = px.scatter_mapbox(X_test_nf, lat=\"latitude\", lon=\"longitude\", color=\"population\", size='population', hover_data=['region', 'basin', 'population'],\n",
        "                   color_continuous_scale=px.colors.cyclical.IceFire, size_max=15, zoom=10)\n",
        "fig.show(renderer='colab')"
      ],
      "metadata": {
        "colab": {
          "base_uri": "https://localhost:8080/",
          "height": 542
        },
        "id": "oEHgGdpaJABW",
        "outputId": "3d1c8bf6-75d1-4978-ab6d-26730b8eb76e"
      },
      "execution_count": 58,
      "outputs": [
        {
          "output_type": "display_data",
          "data": {
            "text/html": [
              "<html>\n",
              "<head><meta charset=\"utf-8\" /></head>\n",
              "<body>\n",
              "    <div>            <script src=\"https://cdnjs.cloudflare.com/ajax/libs/mathjax/2.7.5/MathJax.js?config=TeX-AMS-MML_SVG\"></script><script type=\"text/javascript\">if (window.MathJax && window.MathJax.Hub && window.MathJax.Hub.Config) {window.MathJax.Hub.Config({SVG: {font: \"STIX-Web\"}});}</script>                <script type=\"text/javascript\">window.PlotlyConfig = {MathJaxConfig: 'local'};</script>\n",
              "        <script src=\"https://cdn.plot.ly/plotly-2.18.2.min.js\"></script>                <div id=\"99cebae5-a986-4035-a70f-206f07c82ca4\" class=\"plotly-graph-div\" style=\"height:525px; width:100%;\"></div>            <script type=\"text/javascript\">                                    window.PLOTLYENV=window.PLOTLYENV || {};                                    if (document.getElementById(\"99cebae5-a986-4035-a70f-206f07c82ca4\")) {                    Plotly.newPlot(                        \"99cebae5-a986-4035-a70f-206f07c82ca4\",                        [{\"customdata\":[[\"Lindi\",\"Ruvuma / Southern Coast\",1800.0],[\"Lindi\",\"Ruvuma / Southern Coast\",1580.0],[\"Rukwa\",\"Lake Rukwa\",1500.0],[\"Rukwa\",\"Lake Tanganyika\",1250.0],[\"Rukwa\",\"Lake Rukwa\",1220.0],[\"Lindi\",\"Ruvuma / Southern Coast\",950.0],[\"Rukwa\",\"Lake Tanganyika\",800.0],[\"Ruvuma\",\"Lake Nyasa\",750.0],[\"Mtwara\",\"Ruvuma / Southern Coast\",750.0],[\"Rukwa\",\"Lake Tanganyika\",750.0],[\"Ruvuma\",\"Lake Nyasa\",650.0],[\"Lindi\",\"Ruvuma / Southern Coast\",650.0],[\"Lindi\",\"Ruvuma / Southern Coast\",600.0],[\"Mtwara\",\"Ruvuma / Southern Coast\",600.0],[\"Ruvuma\",\"Ruvuma / Southern Coast\",600.0],[\"Mtwara\",\"Ruvuma / Southern Coast\",600.0],[\"Morogoro\",\"Wami / Ruvu\",600.0],[\"Lindi\",\"Ruvuma / Southern Coast\",580.0],[\"Lindi\",\"Ruvuma / Southern Coast\",580.0],[\"Mtwara\",\"Ruvuma / Southern Coast\",550.0],[\"Singida\",\"Internal\",545.0],[\"Mtwara\",\"Ruvuma / Southern Coast\",500.0],[\"Lindi\",\"Ruvuma / Southern Coast\",500.0],[\"Morogoro\",\"Wami / Ruvu\",500.0],[\"Lindi\",\"Ruvuma / Southern Coast\",500.0],[\"Tanga\",\"Pangani\",500.0],[\"Rukwa\",\"Lake Tanganyika\",500.0],[\"Mtwara\",\"Ruvuma / Southern Coast\",500.0],[\"Mtwara\",\"Ruvuma / Southern Coast\",500.0],[\"Ruvuma\",\"Ruvuma / Southern Coast\",475.0],[\"Manyara\",\"Internal\",459.0],[\"Mtwara\",\"Ruvuma / Southern Coast\",450.0],[\"Mara\",\"Lake Victoria\",450.0],[\"Lindi\",\"Ruvuma / Southern Coast\",450.0],[\"Morogoro\",\"Wami / Ruvu\",430.0],[\"Lindi\",\"Ruvuma / Southern Coast\",420.0],[\"Lindi\",\"Ruvuma / Southern Coast\",405.0],[\"Tanga\",\"Pangani\",400.0],[\"Mtwara\",\"Ruvuma / Southern Coast\",400.0],[\"Ruvuma\",\"Ruvuma / Southern Coast\",400.0],[\"Mwanza\",\"Lake Victoria\",400.0],[\"Mwanza\",\"Lake Victoria\",400.0],[\"Ruvuma\",\"Lake Nyasa\",400.0],[\"Lindi\",\"Ruvuma / Southern Coast\",400.0],[\"Mtwara\",\"Ruvuma / Southern Coast\",400.0],[\"Rukwa\",\"Lake Rukwa\",400.0],[\"Mwanza\",\"Lake Victoria\",400.0],[\"Ruvuma\",\"Lake Nyasa\",400.0],[\"Lindi\",\"Ruvuma / Southern Coast\",390.0],[\"Lindi\",\"Ruvuma / Southern Coast\",390.0],[\"Lindi\",\"Ruvuma / Southern Coast\",380.0],[\"Lindi\",\"Ruvuma / Southern Coast\",369.0],[\"Manyara\",\"Internal\",360.0],[\"Mwanza\",\"Lake Victoria\",350.0],[\"Mwanza\",\"Lake Victoria\",350.0],[\"Mtwara\",\"Ruvuma / Southern Coast\",350.0],[\"Ruvuma\",\"Lake Nyasa\",350.0],[\"Mtwara\",\"Ruvuma / Southern Coast\",350.0],[\"Mara\",\"Lake Victoria\",350.0],[\"Lindi\",\"Ruvuma / Southern Coast\",350.0],[\"Lindi\",\"Ruvuma / Southern Coast\",350.0],[\"Singida\",\"Internal\",350.0],[\"Lindi\",\"Ruvuma / Southern Coast\",350.0],[\"Ruvuma\",\"Lake Nyasa\",350.0],[\"Lindi\",\"Ruvuma / Southern Coast\",350.0],[\"Mtwara\",\"Ruvuma / Southern Coast\",350.0],[\"Mtwara\",\"Ruvuma / Southern Coast\",350.0],[\"Mwanza\",\"Lake Victoria\",350.0],[\"Lindi\",\"Ruvuma / Southern Coast\",350.0],[\"Ruvuma\",\"Ruvuma / Southern Coast\",350.0],[\"Mtwara\",\"Ruvuma / Southern Coast\",350.0],[\"Lindi\",\"Ruvuma / Southern Coast\",350.0],[\"Ruvuma\",\"Lake Nyasa\",350.0],[\"Lindi\",\"Ruvuma / Southern Coast\",345.0],[\"Lindi\",\"Ruvuma / Southern Coast\",330.0],[\"Lindi\",\"Rufiji\",325.0],[\"Lindi\",\"Ruvuma / Southern Coast\",320.0],[\"Singida\",\"Internal\",320.0],[\"Lindi\",\"Ruvuma / Southern Coast\",320.0],[\"Lindi\",\"Ruvuma / Southern Coast\",320.0],[\"Mara\",\"Lake Victoria\",320.0],[\"Lindi\",\"Ruvuma / Southern Coast\",306.0],[\"Lindi\",\"Ruvuma / Southern Coast\",305.0],[\"Lindi\",\"Ruvuma / Southern Coast\",303.0],[\"Mtwara\",\"Ruvuma / Southern Coast\",300.0],[\"Tanga\",\"Pangani\",300.0],[\"Singida\",\"Internal\",300.0],[\"Lindi\",\"Ruvuma / Southern Coast\",300.0],[\"Ruvuma\",\"Ruvuma / Southern Coast\",300.0],[\"Mwanza\",\"Lake Victoria\",300.0],[\"Rukwa\",\"Lake Tanganyika\",300.0],[\"Mtwara\",\"Ruvuma / Southern Coast\",300.0],[\"Ruvuma\",\"Lake Nyasa\",300.0],[\"Mwanza\",\"Lake Victoria\",300.0],[\"Mwanza\",\"Lake Victoria\",300.0],[\"Mtwara\",\"Ruvuma / Southern Coast\",300.0],[\"Tanga\",\"Pangani\",300.0],[\"Mtwara\",\"Ruvuma / Southern Coast\",300.0],[\"Mtwara\",\"Ruvuma / Southern Coast\",300.0],[\"Mtwara\",\"Ruvuma / Southern Coast\",300.0]],\"hovertemplate\":\"population=%{marker.color}<br>latitude=%{lat}<br>longitude=%{lon}<br>region=%{customdata[0]}<br>basin=%{customdata[1]}<extra></extra>\",\"lat\":[-9.99077466,-10.00890108,-7.83669775,-7.97318653,-8.08420441,-10.35936411,-8.01644531,-10.26017789,-10.70146127,-8.06461809,-10.19977014,-10.31157643,-9.96216226,-10.84032387,-10.70991689,-10.84109996,-6.14471059,-10.16256105,-10.18137513,-10.76032674,-4.48976251,-10.83059447,-10.17212765,-6.92588637,-10.16998556,-5.14937876,-6.72939667,-10.36869166,-10.80235152,-10.7199403,-4.14490784,-10.906451,-2.15840622,-10.05065506,-6.34620543,-10.38665425,-10.37025354,-4.92526535,-10.20582148,-10.7475464,-2.06906911,-1.99883665,-10.49897498,-9.91169553,-10.87378956,-8.39023469,-2.0657119,-10.54103451,-10.38532716,-10.37155922,-10.35596504,-8.82977008,-4.47955385,-2.07842024,-2.07363796,-10.55441685,-10.51639749,-10.8382253,-2.00390932,-9.94014777,-10.11651724,-6.0018536,-9.870742,-9.78657231,-10.3100571,-10.77681893,-10.80136315,-2.06895007,-9.8696226,-10.80929672,-10.83930946,-10.12263412,-10.64177468,-10.16588599,-10.27175307,-8.48385609,-10.11442079,-5.87132258,-10.62008588,-10.14952686,-1.79209893,-10.27199109,-10.1653219,-10.18867637,-10.58710663,-5.15533733,-6.00259494,-10.5409271,-10.6882657,-2.06307735,-8.06353122,-10.89690983,-10.58344029,-1.99575755,-2.06682385,-10.30772083,-5.42604502,-10.83896887,-10.9329777,-10.57539444],\"legendgroup\":\"\",\"lon\":[38.96725752,39.00057539,31.51069241,31.46118012,31.67291893,39.05307795,31.612384,35.65508172,39.68288264,31.53610528,35.67220068,38.9795635,38.96088541,39.62575277,35.51196662,39.62427884,37.12171933,38.9105069,38.9376081,39.68212122,34.97078517,39.69613199,38.65882305,37.80945384,38.91821251,38.71921320000001,30.45749459,39.76150702,39.87992613,35.79829785,35.32197070000001,39.56959747,33.50273403,38.64791278,37.34053284,38.69252092,38.76401714,38.29418386,40.064719200000006,36.00877738,32.99214179,32.89776456,35.47107583,39.58424473,39.6032738,31.81774569,32.9586609,35.61926412,38.69355401,38.764596,39.06008758,38.9290501,35.52623719,33.01569519,33.00023911,38.79987731,35.4140958,39.86183659,33.98451996,38.36129061,38.92855796,34.93646675,37.87604238,35.25185235,38.98008686,39.81189222,39.88044646,32.98484421,37.87668401,35.53911013,39.86207069,37.86161611,35.54935461,38.5075859,38.66669516,39.10442499,38.47682233,35.00786926,38.12373623,38.68795067,34.00966802,38.66588161,38.50762149,38.55428069,39.52315923,38.78222363,34.93461137,37.96192432,35.80163736,33.05397334,31.53976661,39.53855974,35.79315109,32.92662151,32.97344071,39.82821031,38.98035471,39.86095469,39.50036617,40.12073009],\"marker\":{\"color\":[1800.0,1580.0,1500.0,1250.0,1220.0,950.0,800.0,750.0,750.0,750.0,650.0,650.0,600.0,600.0,600.0,600.0,600.0,580.0,580.0,550.0,545.0,500.0,500.0,500.0,500.0,500.0,500.0,500.0,500.0,475.0,459.0,450.0,450.0,450.0,430.0,420.0,405.0,400.0,400.0,400.0,400.0,400.0,400.0,400.0,400.0,400.0,400.0,400.0,390.0,390.0,380.0,369.0,360.0,350.0,350.0,350.0,350.0,350.0,350.0,350.0,350.0,350.0,350.0,350.0,350.0,350.0,350.0,350.0,350.0,350.0,350.0,350.0,350.0,345.0,330.0,325.0,320.0,320.0,320.0,320.0,320.0,306.0,305.0,303.0,300.0,300.0,300.0,300.0,300.0,300.0,300.0,300.0,300.0,300.0,300.0,300.0,300.0,300.0,300.0,300.0],\"coloraxis\":\"coloraxis\",\"size\":[1800.0,1580.0,1500.0,1250.0,1220.0,950.0,800.0,750.0,750.0,750.0,650.0,650.0,600.0,600.0,600.0,600.0,600.0,580.0,580.0,550.0,545.0,500.0,500.0,500.0,500.0,500.0,500.0,500.0,500.0,475.0,459.0,450.0,450.0,450.0,430.0,420.0,405.0,400.0,400.0,400.0,400.0,400.0,400.0,400.0,400.0,400.0,400.0,400.0,390.0,390.0,380.0,369.0,360.0,350.0,350.0,350.0,350.0,350.0,350.0,350.0,350.0,350.0,350.0,350.0,350.0,350.0,350.0,350.0,350.0,350.0,350.0,350.0,350.0,345.0,330.0,325.0,320.0,320.0,320.0,320.0,320.0,306.0,305.0,303.0,300.0,300.0,300.0,300.0,300.0,300.0,300.0,300.0,300.0,300.0,300.0,300.0,300.0,300.0,300.0,300.0],\"sizemode\":\"area\",\"sizeref\":8.0},\"mode\":\"markers\",\"name\":\"\",\"showlegend\":false,\"subplot\":\"mapbox\",\"type\":\"scattermapbox\"}],                        {\"template\":{\"data\":{\"histogram2dcontour\":[{\"type\":\"histogram2dcontour\",\"colorbar\":{\"outlinewidth\":0,\"ticks\":\"\"},\"colorscale\":[[0.0,\"#0d0887\"],[0.1111111111111111,\"#46039f\"],[0.2222222222222222,\"#7201a8\"],[0.3333333333333333,\"#9c179e\"],[0.4444444444444444,\"#bd3786\"],[0.5555555555555556,\"#d8576b\"],[0.6666666666666666,\"#ed7953\"],[0.7777777777777778,\"#fb9f3a\"],[0.8888888888888888,\"#fdca26\"],[1.0,\"#f0f921\"]]}],\"choropleth\":[{\"type\":\"choropleth\",\"colorbar\":{\"outlinewidth\":0,\"ticks\":\"\"}}],\"histogram2d\":[{\"type\":\"histogram2d\",\"colorbar\":{\"outlinewidth\":0,\"ticks\":\"\"},\"colorscale\":[[0.0,\"#0d0887\"],[0.1111111111111111,\"#46039f\"],[0.2222222222222222,\"#7201a8\"],[0.3333333333333333,\"#9c179e\"],[0.4444444444444444,\"#bd3786\"],[0.5555555555555556,\"#d8576b\"],[0.6666666666666666,\"#ed7953\"],[0.7777777777777778,\"#fb9f3a\"],[0.8888888888888888,\"#fdca26\"],[1.0,\"#f0f921\"]]}],\"heatmap\":[{\"type\":\"heatmap\",\"colorbar\":{\"outlinewidth\":0,\"ticks\":\"\"},\"colorscale\":[[0.0,\"#0d0887\"],[0.1111111111111111,\"#46039f\"],[0.2222222222222222,\"#7201a8\"],[0.3333333333333333,\"#9c179e\"],[0.4444444444444444,\"#bd3786\"],[0.5555555555555556,\"#d8576b\"],[0.6666666666666666,\"#ed7953\"],[0.7777777777777778,\"#fb9f3a\"],[0.8888888888888888,\"#fdca26\"],[1.0,\"#f0f921\"]]}],\"heatmapgl\":[{\"type\":\"heatmapgl\",\"colorbar\":{\"outlinewidth\":0,\"ticks\":\"\"},\"colorscale\":[[0.0,\"#0d0887\"],[0.1111111111111111,\"#46039f\"],[0.2222222222222222,\"#7201a8\"],[0.3333333333333333,\"#9c179e\"],[0.4444444444444444,\"#bd3786\"],[0.5555555555555556,\"#d8576b\"],[0.6666666666666666,\"#ed7953\"],[0.7777777777777778,\"#fb9f3a\"],[0.8888888888888888,\"#fdca26\"],[1.0,\"#f0f921\"]]}],\"contourcarpet\":[{\"type\":\"contourcarpet\",\"colorbar\":{\"outlinewidth\":0,\"ticks\":\"\"}}],\"contour\":[{\"type\":\"contour\",\"colorbar\":{\"outlinewidth\":0,\"ticks\":\"\"},\"colorscale\":[[0.0,\"#0d0887\"],[0.1111111111111111,\"#46039f\"],[0.2222222222222222,\"#7201a8\"],[0.3333333333333333,\"#9c179e\"],[0.4444444444444444,\"#bd3786\"],[0.5555555555555556,\"#d8576b\"],[0.6666666666666666,\"#ed7953\"],[0.7777777777777778,\"#fb9f3a\"],[0.8888888888888888,\"#fdca26\"],[1.0,\"#f0f921\"]]}],\"surface\":[{\"type\":\"surface\",\"colorbar\":{\"outlinewidth\":0,\"ticks\":\"\"},\"colorscale\":[[0.0,\"#0d0887\"],[0.1111111111111111,\"#46039f\"],[0.2222222222222222,\"#7201a8\"],[0.3333333333333333,\"#9c179e\"],[0.4444444444444444,\"#bd3786\"],[0.5555555555555556,\"#d8576b\"],[0.6666666666666666,\"#ed7953\"],[0.7777777777777778,\"#fb9f3a\"],[0.8888888888888888,\"#fdca26\"],[1.0,\"#f0f921\"]]}],\"mesh3d\":[{\"type\":\"mesh3d\",\"colorbar\":{\"outlinewidth\":0,\"ticks\":\"\"}}],\"scatter\":[{\"fillpattern\":{\"fillmode\":\"overlay\",\"size\":10,\"solidity\":0.2},\"type\":\"scatter\"}],\"parcoords\":[{\"type\":\"parcoords\",\"line\":{\"colorbar\":{\"outlinewidth\":0,\"ticks\":\"\"}}}],\"scatterpolargl\":[{\"type\":\"scatterpolargl\",\"marker\":{\"colorbar\":{\"outlinewidth\":0,\"ticks\":\"\"}}}],\"bar\":[{\"error_x\":{\"color\":\"#2a3f5f\"},\"error_y\":{\"color\":\"#2a3f5f\"},\"marker\":{\"line\":{\"color\":\"#E5ECF6\",\"width\":0.5},\"pattern\":{\"fillmode\":\"overlay\",\"size\":10,\"solidity\":0.2}},\"type\":\"bar\"}],\"scattergeo\":[{\"type\":\"scattergeo\",\"marker\":{\"colorbar\":{\"outlinewidth\":0,\"ticks\":\"\"}}}],\"scatterpolar\":[{\"type\":\"scatterpolar\",\"marker\":{\"colorbar\":{\"outlinewidth\":0,\"ticks\":\"\"}}}],\"histogram\":[{\"marker\":{\"pattern\":{\"fillmode\":\"overlay\",\"size\":10,\"solidity\":0.2}},\"type\":\"histogram\"}],\"scattergl\":[{\"type\":\"scattergl\",\"marker\":{\"colorbar\":{\"outlinewidth\":0,\"ticks\":\"\"}}}],\"scatter3d\":[{\"type\":\"scatter3d\",\"line\":{\"colorbar\":{\"outlinewidth\":0,\"ticks\":\"\"}},\"marker\":{\"colorbar\":{\"outlinewidth\":0,\"ticks\":\"\"}}}],\"scattermapbox\":[{\"type\":\"scattermapbox\",\"marker\":{\"colorbar\":{\"outlinewidth\":0,\"ticks\":\"\"}}}],\"scatterternary\":[{\"type\":\"scatterternary\",\"marker\":{\"colorbar\":{\"outlinewidth\":0,\"ticks\":\"\"}}}],\"scattercarpet\":[{\"type\":\"scattercarpet\",\"marker\":{\"colorbar\":{\"outlinewidth\":0,\"ticks\":\"\"}}}],\"carpet\":[{\"aaxis\":{\"endlinecolor\":\"#2a3f5f\",\"gridcolor\":\"white\",\"linecolor\":\"white\",\"minorgridcolor\":\"white\",\"startlinecolor\":\"#2a3f5f\"},\"baxis\":{\"endlinecolor\":\"#2a3f5f\",\"gridcolor\":\"white\",\"linecolor\":\"white\",\"minorgridcolor\":\"white\",\"startlinecolor\":\"#2a3f5f\"},\"type\":\"carpet\"}],\"table\":[{\"cells\":{\"fill\":{\"color\":\"#EBF0F8\"},\"line\":{\"color\":\"white\"}},\"header\":{\"fill\":{\"color\":\"#C8D4E3\"},\"line\":{\"color\":\"white\"}},\"type\":\"table\"}],\"barpolar\":[{\"marker\":{\"line\":{\"color\":\"#E5ECF6\",\"width\":0.5},\"pattern\":{\"fillmode\":\"overlay\",\"size\":10,\"solidity\":0.2}},\"type\":\"barpolar\"}],\"pie\":[{\"automargin\":true,\"type\":\"pie\"}]},\"layout\":{\"autotypenumbers\":\"strict\",\"colorway\":[\"#636efa\",\"#EF553B\",\"#00cc96\",\"#ab63fa\",\"#FFA15A\",\"#19d3f3\",\"#FF6692\",\"#B6E880\",\"#FF97FF\",\"#FECB52\"],\"font\":{\"color\":\"#2a3f5f\"},\"hovermode\":\"closest\",\"hoverlabel\":{\"align\":\"left\"},\"paper_bgcolor\":\"white\",\"plot_bgcolor\":\"#E5ECF6\",\"polar\":{\"bgcolor\":\"#E5ECF6\",\"angularaxis\":{\"gridcolor\":\"white\",\"linecolor\":\"white\",\"ticks\":\"\"},\"radialaxis\":{\"gridcolor\":\"white\",\"linecolor\":\"white\",\"ticks\":\"\"}},\"ternary\":{\"bgcolor\":\"#E5ECF6\",\"aaxis\":{\"gridcolor\":\"white\",\"linecolor\":\"white\",\"ticks\":\"\"},\"baxis\":{\"gridcolor\":\"white\",\"linecolor\":\"white\",\"ticks\":\"\"},\"caxis\":{\"gridcolor\":\"white\",\"linecolor\":\"white\",\"ticks\":\"\"}},\"coloraxis\":{\"colorbar\":{\"outlinewidth\":0,\"ticks\":\"\"}},\"colorscale\":{\"sequential\":[[0.0,\"#0d0887\"],[0.1111111111111111,\"#46039f\"],[0.2222222222222222,\"#7201a8\"],[0.3333333333333333,\"#9c179e\"],[0.4444444444444444,\"#bd3786\"],[0.5555555555555556,\"#d8576b\"],[0.6666666666666666,\"#ed7953\"],[0.7777777777777778,\"#fb9f3a\"],[0.8888888888888888,\"#fdca26\"],[1.0,\"#f0f921\"]],\"sequentialminus\":[[0.0,\"#0d0887\"],[0.1111111111111111,\"#46039f\"],[0.2222222222222222,\"#7201a8\"],[0.3333333333333333,\"#9c179e\"],[0.4444444444444444,\"#bd3786\"],[0.5555555555555556,\"#d8576b\"],[0.6666666666666666,\"#ed7953\"],[0.7777777777777778,\"#fb9f3a\"],[0.8888888888888888,\"#fdca26\"],[1.0,\"#f0f921\"]],\"diverging\":[[0,\"#8e0152\"],[0.1,\"#c51b7d\"],[0.2,\"#de77ae\"],[0.3,\"#f1b6da\"],[0.4,\"#fde0ef\"],[0.5,\"#f7f7f7\"],[0.6,\"#e6f5d0\"],[0.7,\"#b8e186\"],[0.8,\"#7fbc41\"],[0.9,\"#4d9221\"],[1,\"#276419\"]]},\"xaxis\":{\"gridcolor\":\"white\",\"linecolor\":\"white\",\"ticks\":\"\",\"title\":{\"standoff\":15},\"zerolinecolor\":\"white\",\"automargin\":true,\"zerolinewidth\":2},\"yaxis\":{\"gridcolor\":\"white\",\"linecolor\":\"white\",\"ticks\":\"\",\"title\":{\"standoff\":15},\"zerolinecolor\":\"white\",\"automargin\":true,\"zerolinewidth\":2},\"scene\":{\"xaxis\":{\"backgroundcolor\":\"#E5ECF6\",\"gridcolor\":\"white\",\"linecolor\":\"white\",\"showbackground\":true,\"ticks\":\"\",\"zerolinecolor\":\"white\",\"gridwidth\":2},\"yaxis\":{\"backgroundcolor\":\"#E5ECF6\",\"gridcolor\":\"white\",\"linecolor\":\"white\",\"showbackground\":true,\"ticks\":\"\",\"zerolinecolor\":\"white\",\"gridwidth\":2},\"zaxis\":{\"backgroundcolor\":\"#E5ECF6\",\"gridcolor\":\"white\",\"linecolor\":\"white\",\"showbackground\":true,\"ticks\":\"\",\"zerolinecolor\":\"white\",\"gridwidth\":2}},\"shapedefaults\":{\"line\":{\"color\":\"#2a3f5f\"}},\"annotationdefaults\":{\"arrowcolor\":\"#2a3f5f\",\"arrowhead\":0,\"arrowwidth\":1},\"geo\":{\"bgcolor\":\"white\",\"landcolor\":\"#E5ECF6\",\"subunitcolor\":\"white\",\"showland\":true,\"showlakes\":true,\"lakecolor\":\"white\"},\"title\":{\"x\":0.05},\"mapbox\":{\"style\":\"light\"}}},\"mapbox\":{\"domain\":{\"x\":[0.0,1.0],\"y\":[0.0,1.0]},\"center\":{\"lat\":-8.5362194359,\"lon\":37.0118206784},\"accesstoken\":\"pk.eyJ1IjoibWFpeWExMSIsImEiOiJjbGZzc2FiOGIwMWE4M2RxcHhyMjlvd3UzIn0.ez1Qh_dtHkxgK4Xe6WGA5w\",\"zoom\":10},\"coloraxis\":{\"colorbar\":{\"title\":{\"text\":\"population\"}},\"colorscale\":[[0.0,\"#000000\"],[0.0625,\"#001f4d\"],[0.125,\"#003786\"],[0.1875,\"#0e58a8\"],[0.25,\"#217eb8\"],[0.3125,\"#30a4ca\"],[0.375,\"#54c8df\"],[0.4375,\"#9be4ef\"],[0.5,\"#e1e9d1\"],[0.5625,\"#f3d573\"],[0.625,\"#e7b000\"],[0.6875,\"#da8200\"],[0.75,\"#c65400\"],[0.8125,\"#ac2301\"],[0.875,\"#820000\"],[0.9375,\"#4c0000\"],[1.0,\"#000000\"]]},\"legend\":{\"tracegroupgap\":0,\"itemsizing\":\"constant\"},\"margin\":{\"t\":60}},                        {\"responsive\": true}                    ).then(function(){\n",
              "                            \n",
              "var gd = document.getElementById('99cebae5-a986-4035-a70f-206f07c82ca4');\n",
              "var x = new MutationObserver(function (mutations, observer) {{\n",
              "        var display = window.getComputedStyle(gd).display;\n",
              "        if (!display || display === 'none') {{\n",
              "            console.log([gd, 'removed!']);\n",
              "            Plotly.purge(gd);\n",
              "            observer.disconnect();\n",
              "        }}\n",
              "}});\n",
              "\n",
              "// Listen for the removal of the full notebook cells\n",
              "var notebookContainer = gd.closest('#notebook-container');\n",
              "if (notebookContainer) {{\n",
              "    x.observe(notebookContainer, {childList: true});\n",
              "}}\n",
              "\n",
              "// Listen for the clearing of the current output cell\n",
              "var outputEl = gd.closest('.output');\n",
              "if (outputEl) {{\n",
              "    x.observe(outputEl, {childList: true});\n",
              "}}\n",
              "\n",
              "                        })                };                            </script>        </div>\n",
              "</body>\n",
              "</html>"
            ]
          },
          "metadata": {}
        }
      ]
    }
  ],
  "metadata": {
    "kernelspec": {
      "display_name": "Python 3",
      "language": "python",
      "name": "python3"
    },
    "language_info": {
      "codemirror_mode": {
        "name": "ipython",
        "version": 3
      },
      "file_extension": ".py",
      "mimetype": "text/x-python",
      "name": "python",
      "nbconvert_exporter": "python",
      "pygments_lexer": "ipython3",
      "version": "3.8.9"
    },
    "colab": {
      "provenance": []
    }
  },
  "nbformat": 4,
  "nbformat_minor": 0
}